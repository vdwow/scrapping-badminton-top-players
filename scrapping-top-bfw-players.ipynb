{
 "cells": [
  {
   "cell_type": "code",
   "execution_count": 1,
   "metadata": {
    "ExecuteTime": {
     "end_time": "2020-08-26T07:36:23.841880Z",
     "start_time": "2020-08-26T07:36:22.837014Z"
    }
   },
   "outputs": [],
   "source": [
    "import urllib\n",
    "import bs4\n",
    "import re\n",
    "import pandas as pd\n",
    "import random\n",
    "\n",
    "from time import sleep\n",
    "\n",
    "#help(bs4)"
   ]
  },
  {
   "cell_type": "code",
   "execution_count": 143,
   "metadata": {
    "ExecuteTime": {
     "end_time": "2020-08-26T08:50:52.523246Z",
     "start_time": "2020-08-26T08:50:51.386113Z"
    }
   },
   "outputs": [],
   "source": [
    "url_landing = \"https://bwfbadminton.com/rankings/2/bwf-world-rankings/8/men-s-doubles/2020/12/?rows=100&page_no=1\"\n",
    "req = urllib.request.Request(url_landing, headers={'User-Agent':'Mozilla/5.0'})\n",
    "webpage = urllib.request.urlopen(req).read()\n",
    "landing = bs4.BeautifulSoup(webpage, \"lxml\")"
   ]
  },
  {
   "cell_type": "code",
   "execution_count": 185,
   "metadata": {
    "ExecuteTime": {
     "end_time": "2020-08-26T09:10:40.667148Z",
     "start_time": "2020-08-26T09:10:40.646675Z"
    }
   },
   "outputs": [],
   "source": [
    "def get_df(url):\n",
    "    \n",
    "    url_landing = url\n",
    "    req = urllib.request.Request(url_landing, headers={'User-Agent':'Mozilla/5.0'})\n",
    "    webpage = urllib.request.urlopen(req).read()\n",
    "    landing = bs4.BeautifulSoup(webpage, \"lxml\")  \n",
    "    \n",
    "    rank = [x for x in range(1,101)]\n",
    "    \n",
    "    winrate = []\n",
    "    prize = []\n",
    "    temp_list = []\n",
    "\n",
    "    for item in landing.find_all(\"td\",{\"align\":\"center\"}):\n",
    "        temp_list.append(item.get_text().split())\n",
    "\n",
    "    temp_list = [x for x in temp_list if x!=[]]\n",
    "    winrate = [x for x in temp_list if '-' in x]\n",
    "    prize = [x for x in temp_list if x[0].startswith('$')]\n",
    "    \n",
    "    countries = []\n",
    "    for item in landing.find_all(\"div\",{\"class\":\"country\"}):\n",
    "        countries.append(item.get_text().split()[0])\n",
    "    if len(countries) == 200:\n",
    "        del countries[1:200:2]\n",
    "        \n",
    "    players = []\n",
    "    for item in landing.find_all(\"div\",{\"class\":\"player\"}):\n",
    "        players.append(item.get_text())\n",
    "        \n",
    "    change = []\n",
    "    for item in landing.find_all(\"span\",{\"class\":\"ranking-change\"}):\n",
    "        change.append(int(item.get_text()))\n",
    "    \n",
    "    points = []\n",
    "    for item in landing.find_all(\"td\",{\"class\":\"point\"}):\n",
    "        points.append(item.get_text().split())\n",
    "    points = [x for x in points if x!=[]]\n",
    "    \n",
    "    data = pd.DataFrame({'RANK':rank,\n",
    "                     'COUNTRY':countries,\n",
    "                     'PLAYER':players,\n",
    "                     'RANK_CHANGE':change,\n",
    "                    'WINRATE':winrate,\n",
    "                    'CAREER_PRIZE_MONEY':prize,\n",
    "                    'POINTS_FOR_WORLD_TOUR':points})\n",
    "    \n",
    "    data.set_index('RANK', inplace = True)\n",
    "    \n",
    "    data['PLAYER'] = data['PLAYER'].str.lstrip('\\n\\n\\n ').str.rstrip(' \\n\\n')\n",
    "    \n",
    "    wins = []\n",
    "    losses = []\n",
    "    for x in data['WINRATE'].values:\n",
    "        wins.append(int(x[0]))\n",
    "        losses.append(int(x[2]))\n",
    "\n",
    "    data['WINS'] = wins\n",
    "    data['LOSSES'] = losses\n",
    "    data['WINRATE'] = data['WINS']/(data['WINS']+data['LOSSES'])*100\n",
    "    \n",
    "    data['CAREER_PRIZE_MONEY'] = [int(x[0].strip('$').replace(',','')[:-3]) for x in data['CAREER_PRIZE_MONEY']]\n",
    "    \n",
    "    data['TOURNAMENTS_PLAYED'] = [int(x[2]) for x in data['POINTS_FOR_WORLD_TOUR']]\n",
    "    \n",
    "    data['POINTS_FOR_WORLD_TOUR'] = [int(x[0].replace(',','')) for x in data['POINTS_FOR_WORLD_TOUR']]\n",
    "    \n",
    "    data['PLAYER'] = data['PLAYER'].str.replace('\\n\\n\\n', ' / ')\n",
    "    \n",
    "    sleep(random.randint(3, 7))\n",
    "    \n",
    "    return data"
   ]
  },
  {
   "cell_type": "code",
   "execution_count": 186,
   "metadata": {
    "ExecuteTime": {
     "end_time": "2020-08-26T09:11:21.291940Z",
     "start_time": "2020-08-26T09:10:45.023310Z"
    }
   },
   "outputs": [],
   "source": [
    "men_singles = get_df(\"https://bwfbadminton.com/rankings/2/bwf-world-rankings/6/men-s-singles/2020/12/?rows=100&page_no=1\")\n",
    "women_singles =  get_df(\"https://bwfbadminton.com/rankings/2/bwf-world-rankings/7/women-s-singles/2020/12/?rows=100&page_no=1\")\n",
    "men_doubles = get_df(\"https://bwfbadminton.com/rankings/2/bwf-world-rankings/8/men-s-doubles/2020/12/?rows=100&page_no=1\")\n",
    "women_doubles = get_df(\"https://bwfbadminton.com/rankings/2/bwf-world-rankings/9/women-s-doubles/2020/12/?rows=100&page_no=1\")\n",
    "mixed_doubles = get_df(\"https://bwfbadminton.com/rankings/2/bwf-world-rankings/10/mixed-doubles/2020/12/?rows=100&page_no=1\")"
   ]
  },
  {
   "cell_type": "code",
   "execution_count": 189,
   "metadata": {
    "ExecuteTime": {
     "end_time": "2020-08-26T09:14:22.158838Z",
     "start_time": "2020-08-26T09:14:22.133866Z"
    }
   },
   "outputs": [],
   "source": [
    "men_singles.to_csv('men_singles.csv',index = True)\n",
    "women_singles.to_csv('women_singles.csv',index = True)\n",
    "men_doubles.to_csv('men_doubles.csv',index = True)\n",
    "women_doubles.to_csv('women_doubles.csv',index = True)\n",
    "mixed_doubles.to_csv('mixed_doubles.csv',index = True)"
   ]
  },
  {
   "cell_type": "code",
   "execution_count": null,
   "metadata": {},
   "outputs": [],
   "source": []
  }
 ],
 "metadata": {
  "kernelspec": {
   "display_name": "Python 3",
   "language": "python",
   "name": "python3"
  },
  "language_info": {
   "codemirror_mode": {
    "name": "ipython",
    "version": 3
   },
   "file_extension": ".py",
   "mimetype": "text/x-python",
   "name": "python",
   "nbconvert_exporter": "python",
   "pygments_lexer": "ipython3",
   "version": "3.7.6"
  }
 },
 "nbformat": 4,
 "nbformat_minor": 4
}
